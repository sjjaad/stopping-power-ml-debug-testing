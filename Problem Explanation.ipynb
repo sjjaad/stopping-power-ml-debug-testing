{
 "cells": [
  {
   "cell_type": "code",
   "execution_count": null,
   "id": "d1ce84a2",
   "metadata": {},
   "outputs": [],
   "source": [
    "%matplotlib inline\n",
    "from matplotlib import pyplot as plt\n",
    "from stopping_power_ml.stop_distance import StoppingDistanceComputer\n",
    "from stopping_power_ml.integrator import TrajectoryIntegrator\n",
    "from sklearn.neighbors import KernelDensity\n",
    "from scipy.interpolate import UnivariateSpline\n",
    "from scipy.signal import savgol_filter\n",
    "from scipy.optimize import fmin\n",
    "import pickle as pkl\n",
    "import pandas as pd\n",
    "import numpy as np\n",
    "import keras\n",
    "import os\n",
    "import glob\n",
    "import statistics\n",
    "import json\n",
    "%load_ext autoreload\n",
    "%autoreload 2"
   ]
  },
  {
   "cell_type": "markdown",
   "id": "4575dd4c",
   "metadata": {},
   "source": [
    "## Load model generated from previous training"
   ]
  },
  {
   "cell_type": "code",
   "execution_count": null,
   "id": "bd8830c5",
   "metadata": {},
   "outputs": [],
   "source": [
    "model = keras.models.load_model(os.path.join('./multiple-velocities', 'model-random-and-channel.h5'))"
   ]
  },
  {
   "cell_type": "markdown",
   "id": "906dad1d",
   "metadata": {},
   "source": [
    "## Initialize Featurizers"
   ]
  },
  {
   "cell_type": "code",
   "execution_count": null,
   "id": "4f28c277",
   "metadata": {},
   "outputs": [],
   "source": [
    "with open(os.path.join('./multiple-velocities', 'featurizer.pkl'), 'rb') as fp:\n",
    "    featurizers = pkl.load(fp)"
   ]
  },
  {
   "cell_type": "markdown",
   "id": "a1affcd2",
   "metadata": {},
   "source": [
    "## Load Aluminum Lattice"
   ]
  },
  {
   "cell_type": "code",
   "execution_count": null,
   "id": "20fb10ed",
   "metadata": {},
   "outputs": [],
   "source": [
    "start_frame = pkl.load(open('al_starting_frame.pkl', 'rb'))"
   ]
  },
  {
   "cell_type": "markdown",
   "id": "eb0bb345",
   "metadata": {},
   "source": [
    "## Load Channel Data"
   ]
  },
  {
   "cell_type": "code",
   "execution_count": null,
   "id": "e579ce36",
   "metadata": {},
   "outputs": [],
   "source": [
    "channel_data = pd.read_pickle(os.path.join('single-velocity', 'data', 'channel_data.pkl.gz')).query('average_range')"
   ]
  },
  {
   "cell_type": "markdown",
   "id": "cefcd3f6",
   "metadata": {},
   "source": [
    "## Initialize Trajectory Integrator\n",
    "This is the class object from the integrator.py file. Will be initialized with aluminum lattice, model and featurizers. Will be used to in intializing the StopDistanceComputer class object."
   ]
  },
  {
   "cell_type": "code",
   "execution_count": null,
   "id": "3ff6a01f",
   "metadata": {},
   "outputs": [],
   "source": [
    "traj_int = TrajectoryIntegrator(start_frame, model, featurizers)"
   ]
  },
  {
   "cell_type": "markdown",
   "id": "7ed9900e",
   "metadata": {},
   "source": [
    "## Initialize Stopping Distance Computer\n",
    "Initializes StopDistanceComputer class object from stop_distance.py, which is used to call the stopping distance function.\n",
    "\n",
    "The stopping distance function takes a starting point and direction and calculates the trajectory of a particle along that direction. The displacement and the velocity of the particle is output with respect to time. \n",
    "\n",
    "The third input parameter of the compute_stopping_distance function is a float value which multiplies the force on the particle as it traverse. The reason for this, is to see the particles behavior as the force is manually changed."
   ]
  },
  {
   "cell_type": "code",
   "execution_count": 1,
   "id": "ef1ae9c8",
   "metadata": {},
   "outputs": [
    {
     "ename": "NameError",
     "evalue": "name 'StoppingDistanceComputer' is not defined",
     "output_type": "error",
     "traceback": [
      "\u001b[1;31m---------------------------------------------------------------------------\u001b[0m",
      "\u001b[1;31mNameError\u001b[0m                                 Traceback (most recent call last)",
      "\u001b[1;32m<ipython-input-1-594f7b7e3857>\u001b[0m in \u001b[0;36m<module>\u001b[1;34m\u001b[0m\n\u001b[1;32m----> 1\u001b[1;33m \u001b[0mstop_comp\u001b[0m \u001b[1;33m=\u001b[0m \u001b[0mStoppingDistanceComputer\u001b[0m\u001b[1;33m(\u001b[0m\u001b[0mtraj_int\u001b[0m\u001b[1;33m)\u001b[0m\u001b[1;33m\u001b[0m\u001b[1;33m\u001b[0m\u001b[0m\n\u001b[0m",
      "\u001b[1;31mNameError\u001b[0m: name 'StoppingDistanceComputer' is not defined"
     ]
    }
   ],
   "source": [
    "stop_comp = StoppingDistanceComputer(traj_int)"
   ]
  },
  {
   "cell_type": "markdown",
   "id": "c6628e78",
   "metadata": {},
   "source": [
    "## Testing Stopping Distance\n",
    "The stopping distance function has to be operated at a series of starting points, facing in the 111 direction. Thus the following function takes the x, y, z coordinates for the starting points and iterates through the stopping distance function for the combination of starting points. \n",
    "\n",
    "It can be seen that the compute_stopping_distance function has two main input parameters. The first is the starting point as a a list, where each element is the x, y and z point in order. The second input is a list showing the direction, normalized. It can be seen that the direction is 111, normalized. The combination of x, y, and z points are input as the starting coordinates, and the stopping distance function is run for each. The output is a json file which lists "
   ]
  },
  {
   "cell_type": "code",
   "execution_count": null,
   "id": "43976d10",
   "metadata": {},
   "outputs": [],
   "source": [
    "def force_variation(x_coords,y_coords,z_coords,scalar,path):\n",
    "    \n",
    "    #y_coords is array of y positions\n",
    "    #z_coords is array of z positions\n",
    "    if x_coords == 0: \n",
    "        for i in y_coords:\n",
    "            for j in z_coords:\n",
    "                dist_channel,pos_channel = stop_comp.compute_stopping_distance([0,i,j],[4/np.sqrt(3), 4/np.sqrt(3), 4/np.sqrt(3)],scalar,output=1)\n",
    "                #dist_channel,pos_channel = stop_comp.compute_stopping_distance([0,i,j],[4, 0, 0],scalar,output=1)\n",
    "                with open(os.path.join(path,f\"traj_{i}_{j}.json\"), \"w\") as f:\n",
    "                    f.write(pos_channel.to_json(orient=\"columns\", lines=False))\n",
    "    else:\n",
    "        for i in x_coords:\n",
    "            for j in y_coords:\n",
    "                for k in z_coords:\n",
    "                    dist_channel,pos_channel = stop_comp.compute_stopping_distance([i,j,k],[4/np.sqrt(3), 4/np.sqrt(3), 4/np.sqrt(3)],scalar,output=1)\n",
    "                    with open(os.path.join(path,f\"traj_{i}_{j}_{k}.json\"), \"w\") as f:\n",
    "                        f.write(pos_channel.to_json(orient=\"columns\", lines=False))"
   ]
  },
  {
   "cell_type": "markdown",
   "id": "76a64808",
   "metadata": {},
   "source": [
    "For the starting points, the x coordinates were held constant, and the y and z coordinates varied by 0.65,.7,.75,.8,.85. The force was scaled by 0.7 , 0.8 , 0.9 , 1 , 1.1 , 1.2 , 1.3\n",
    "\n",
    "There will be a live tracker of each trajectory, showing the step, time, velocity and position. Notice how in some cases the function runs indefinetly, with the velocity stagnating. This is an erroneous test case, and will need to be further examined. A timed kill switch has been added to end the function if it runs for too long. As the cell below runs, notice if any such erroneous test cases occur."
   ]
  },
  {
   "cell_type": "code",
   "execution_count": null,
   "id": "caab0ef0",
   "metadata": {},
   "outputs": [],
   "source": [
    "y_coords = np.array([.65,.7,.75,.8,.85,])\n",
    "z_coords = np.array([.65,.7,.75,.8,.85,])\n",
    "x_coords = 0\n",
    "#x_coords = np.array([0,.05,.1,.15,.2])\n",
    "#y_coords = np.array([0,.05,.1,.15,.2])\n",
    "#z_coords = np.array([0,.05,.1,.15,.2])\n",
    "basefile = \"./around1/new_trajectories_\"\n",
    "for i in np.array([0.7,0.8,0.9,1.0,1.1,1.2,1.3]):\n",
    "    force_variation(x_coords,y_coords,z_coords,i,f\"{basefile}{i}\")"
   ]
  },
  {
   "cell_type": "markdown",
   "id": "32d33657",
   "metadata": {},
   "source": [
    "## Plotting Graphs\n",
    "A displacement with respect to time graph will be plotted. With this, will be a force with respect to time graph, to show the force imparted on the particle as it traverses along. The example shown below is a random test case which works as expected."
   ]
  },
  {
   "cell_type": "code",
   "execution_count": null,
   "id": "29e86f23",
   "metadata": {},
   "outputs": [],
   "source": [
    "y_coords = np.array([.65,.7,.75,.8,.85])\n",
    "z_coords = np.array([.65,.7,.75,.8,.85])\n",
    "alltrajs = []\n",
    "allforces = []\n",
    "alldisplacements = []\n",
    "allvelocities = []\n",
    "times = []\n",
    "for i in y_coords:\n",
    "    for j in z_coords:\n",
    "        traj = json.load(open(os.path.join(\"./111/new_trajectories_4\", f'traj_{i}_{j}.json')))\n",
    "        #traj = pd.read_json((os.path.join(\"./111/new_trajectories_4\", f'traj_{i}_{j}.json')))\n",
    "        displacement = list(traj['displacement'].values())\n",
    "        velocity = list(traj['velocity'].values())\n",
    "        time = list(traj['time'].values())\n",
    "        times.append(time)\n",
    "        alldisplacements.append(displacement)\n",
    "        allvelocities.append(velocity)\n",
    "        fun = traj_int.create_force_calculator_given_displacement([0,i,j],[4/np.sqrt(3), 4/np.sqrt(3), 4/np.sqrt(3)],1)\n",
    "        forces = []\n",
    "        for k in range(len(displacement)):\n",
    "            force = fun(displacement[k],velocity[k])\n",
    "            forces.append(force)\n",
    "        allforces.append(forces)\n",
    "            \n"
   ]
  },
  {
   "cell_type": "markdown",
   "id": "d25c0a3a",
   "metadata": {},
   "source": [
    "However the following case is an erroneous test cases. One can see the displacement and the force with respect to time graphs. Here, we will have to troubleshoot the error to figure out why this test case specifically causes errors. "
   ]
  },
  {
   "cell_type": "code",
   "execution_count": null,
   "id": "0eb1f4ab",
   "metadata": {},
   "outputs": [],
   "source": [
    "basefile = \"./111/error_test_case_\"\n",
    "force_variation(0,[0.7],[0.7],4,f\"{basefile}{4}\")\n",
    "traj = json.load(open(os.path.join(\"./111/error_test_case_4\", f'traj_{0.7}_{0.7}.json')))\n",
    "displacement = list(traj['displacement'].values())\n",
    "velocity = list(traj['velocity'].values())\n",
    "time = list(traj['time'].values())\n",
    "fun = traj_int.create_force_calculator_given_displacement([0,i,j],[4/np.sqrt(3), 4/np.sqrt(3), 4/np.sqrt(3)],1)\n",
    "forces = []\n",
    "for i in range(len(displacement)):\n",
    "    force = fun(displacement[i],velocity[i])\n",
    "    forces.append(force)\n"
   ]
  },
  {
   "cell_type": "code",
   "execution_count": null,
   "id": "b7aaf9be",
   "metadata": {},
   "outputs": [],
   "source": []
  }
 ],
 "metadata": {
  "kernelspec": {
   "display_name": "Python 3",
   "language": "python",
   "name": "python3"
  },
  "language_info": {
   "codemirror_mode": {
    "name": "ipython",
    "version": 3
   },
   "file_extension": ".py",
   "mimetype": "text/x-python",
   "name": "python",
   "nbconvert_exporter": "python",
   "pygments_lexer": "ipython3",
   "version": "3.6.8"
  }
 },
 "nbformat": 4,
 "nbformat_minor": 5
}
